{
 "cells": [
  {
   "cell_type": "code",
   "execution_count": 2,
   "metadata": {
    "collapsed": false,
    "scrolled": true
   },
   "outputs": [
    {
     "name": "stdout",
     "output_type": "stream",
     "text": [
      "OS Details:  Linux-4.4.8-040408-generic-x86_64-with-Ubuntu-16.04-xenial\n",
      "Version:  #201604200335 SMP Wed Apr 20 07:37:30 UTC 2016\n",
      "Platform:  x86_64\n"
     ]
    }
   ],
   "source": [
    "# A few details about the platform and the machine on which the computation is done. \n",
    "import platform\n",
    "from __future__ import print_function\n",
    "\n",
    "print('OS Details: ', platform.platform())\n",
    "print('Version: ', platform.version())\n",
    "print('Platform: ', platform.machine())"
   ]
  },
  {
   "cell_type": "code",
   "execution_count": 2,
   "metadata": {
    "collapsed": true
   },
   "outputs": [],
   "source": [
    "import os\n",
    "import sys\n",
    "import numpy as np\n",
    "import tarfile\n",
    "from six.moves.urllib.request import urlretrieve"
   ]
  },
  {
   "cell_type": "code",
   "execution_count": 3,
   "metadata": {
    "collapsed": true
   },
   "outputs": [],
   "source": [
    "url = 'http://ufldl.stanford.edu/housenumbers/'\n",
    "last_percent_reported = None\n",
    "\n",
    "def download_progress_hook(count, blockSize, totalSize):\n",
    "    \"\"\"\n",
    "    A hook to report the progress of a download. This is mostly intended for users with\n",
    "    slow internet connections. Reports every 10% change in download progress.\n",
    "    \"\"\"\n",
    "    global last_percent_reported\n",
    "    percent = int(count * blockSize * 100 / totalSize)\n",
    "\n",
    "    if last_percent_reported != percent:\n",
    "        if percent % 10 == 0:\n",
    "            sys.stdout.write(\"%s%%\" % percent)\n",
    "            sys.stdout.flush()\n",
    "        else:\n",
    "            sys.stdout.write(\".\")\n",
    "            sys.stdout.flush()\n",
    "\n",
    "        last_percent_reported = percent        \n",
    "        \n",
    "def maybe_download(filename, force=False):\n",
    "    \"\"\"\n",
    "    Download a file, if not present and make sure it's of the right size.\n",
    "    \"\"\"\n",
    "    if force or not os.path.exists(filename):\n",
    "        print('Attempting to download: ', filename) \n",
    "        filename, _ = urlretrieve(url + filename, filename, reporthook=download_progress_hook)\n",
    "        print('\\nDownload Complete!')\n",
    "    else:\n",
    "        print(filename, 'is already downloaded. Skipped.')\n",
    "    return filename"
   ]
  },
  {
   "cell_type": "code",
   "execution_count": 4,
   "metadata": {
    "collapsed": false
   },
   "outputs": [
    {
     "name": "stdout",
     "output_type": "stream",
     "text": [
      "Attempting to download:  train.tar.gz\n",
      "0%.........10%.........20%.........30%.........40%.........50%.........60%.........70%.........80%.........90%.........100%\n",
      "Download Complete!\n"
     ]
    }
   ],
   "source": [
    "train_file_gz = maybe_download('train.tar.gz')"
   ]
  },
  {
   "cell_type": "code",
   "execution_count": 5,
   "metadata": {
    "collapsed": false
   },
   "outputs": [
    {
     "name": "stdout",
     "output_type": "stream",
     "text": [
      "Attempting to download:  test.tar.gz\n",
      "0%.........10%.........20%.........30%.........40%.........50%.........60%.........70%.........80%.........90%.........100%\n",
      "Download Complete!\n"
     ]
    }
   ],
   "source": [
    "test_file_gz = maybe_download('test.tar.gz')"
   ]
  },
  {
   "cell_type": "code",
   "execution_count": 6,
   "metadata": {
    "collapsed": false
   },
   "outputs": [
    {
     "name": "stdout",
     "output_type": "stream",
     "text": [
      "Attempting to download:  extra.tar.gz\n",
      "0%.........10%.........20%.........30%.........40%.........50%.........60%.........70%.........80%.........90%.........100%\n",
      "Download Complete!\n"
     ]
    }
   ],
   "source": [
    "extra_file_gz = maybe_download('extra.tar.gz')"
   ]
  },
  {
   "cell_type": "code",
   "execution_count": 7,
   "metadata": {
    "collapsed": false
   },
   "outputs": [],
   "source": [
    "np.random.seed(789)\n",
    "\n",
    "def maybe_extract(in_file, force=False):\n",
    "    folder_name = os.path.splitext(os.path.splitext(in_file)[0])[0]  # except .tar.gz\n",
    "    \n",
    "    if os.path.isdir(folder_name) and not force:\n",
    "        # Extraction may be forced by setting force = True (even though the folder is already present).\n",
    "        print('%s folder is already present - skipping extraction of %s.' % (folder_name, in_file))\n",
    "    else:\n",
    "        print('Extracting data from file %s .. please wait...' % in_file)\n",
    "        tar = tarfile.open(in_file)\n",
    "        sys.stdout.flush()\n",
    "        tar.extractall()\n",
    "        tar.close()\n",
    "        print('File %s has been successfully extracted to %s folder.' % (in_file, folder_name))        \n",
    "    \n",
    "    return folder_name"
   ]
  },
  {
   "cell_type": "code",
   "execution_count": 9,
   "metadata": {
    "collapsed": false
   },
   "outputs": [
    {
     "name": "stdout",
     "output_type": "stream",
     "text": [
      "Extracting data from file train.tar.gz .. please wait...\n",
      "File train.tar.gz has been successfully extracted to train folder.\n"
     ]
    }
   ],
   "source": [
    "train_folder = maybe_extract(train_file_gz)"
   ]
  },
  {
   "cell_type": "code",
   "execution_count": 10,
   "metadata": {
    "collapsed": false
   },
   "outputs": [
    {
     "name": "stdout",
     "output_type": "stream",
     "text": [
      "Extracting data from file test.tar.gz .. please wait...\n",
      "File test.tar.gz has been successfully extracted to test folder.\n"
     ]
    }
   ],
   "source": [
    "test_folder = maybe_extract(test_file_gz)"
   ]
  },
  {
   "cell_type": "code",
   "execution_count": 11,
   "metadata": {
    "collapsed": false
   },
   "outputs": [
    {
     "name": "stdout",
     "output_type": "stream",
     "text": [
      "Extracting data from file extra.tar.gz .. please wait...\n",
      "File extra.tar.gz has been successfully extracted to extra folder.\n"
     ]
    }
   ],
   "source": [
    "extra_folder = maybe_extract(extra_file_gz)"
   ]
  }
 ],
 "metadata": {
  "kernelspec": {
   "display_name": "Python 2",
   "language": "python",
   "name": "python2"
  },
  "language_info": {
   "codemirror_mode": {
    "name": "ipython",
    "version": 2
   },
   "file_extension": ".py",
   "mimetype": "text/x-python",
   "name": "python",
   "nbconvert_exporter": "python",
   "pygments_lexer": "ipython2",
   "version": "2.7.12"
  }
 },
 "nbformat": 4,
 "nbformat_minor": 0
}
